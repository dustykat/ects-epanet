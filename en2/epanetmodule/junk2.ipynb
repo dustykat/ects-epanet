{
 "cells": [
  {
   "cell_type": "code",
   "execution_count": 6,
   "metadata": {},
   "outputs": [],
   "source": [
    "import epamodule as em"
   ]
  },
  {
   "cell_type": "code",
   "execution_count": 7,
   "metadata": {},
   "outputs": [
    {
     "name": "stdout",
     "output_type": "stream",
     "text": [
      "[106.34938049316406, 106.08516693115234, 105.82646179199219, 105.0861587524414, 103.99639892578125]\n"
     ]
    }
   ],
   "source": [
    "def HydrantRating( MyNode, Demands):\n",
    "   #Open the EPANET toolkit & hydraulics solver\n",
    "   em.ENopen(\"example2.inp\", \"example2.rpt\")\n",
    "   em.ENopenH()\n",
    "\n",
    "   # Get the index of the node of interest\n",
    "   nodeindex= em.ENgetnodeindex(MyNode);\n",
    "\n",
    "   rating= []\n",
    "   # Iterate over all demands\n",
    "   for dem in Demands:\n",
    "      em.ENsetnodevalue(nodeindex, em.EN_BASEDEMAND, dem)\n",
    "      em.ENinitH(em.EN_NOSAVE)\n",
    "      em.ENrunH()\n",
    "      pressure= em.ENgetnodevalue(nodeindex, em.EN_PRESSURE)\n",
    "      rating.append(pressure)\n",
    "\n",
    "   # Close hydraulics solver & toolkit */\n",
    "   em.ENcloseH()\n",
    "   em.ENclose()\n",
    "   return rating\n",
    "   \n",
    "if __name__=='__main__':\n",
    "  print  (HydrantRating('3', [0.0, 10.0, 20.0, 50.0, 100.0]  ))"
   ]
  },
  {
   "cell_type": "code",
   "execution_count": 8,
   "metadata": {},
   "outputs": [],
   "source": [
    "em.ENopen(\"Net1.inp\", \"Net1.rpt\") # open the program and open the file"
   ]
  },
  {
   "cell_type": "code",
   "execution_count": 9,
   "metadata": {},
   "outputs": [],
   "source": [
    "em.ENopenH() # run the hydraulic simulation"
   ]
  },
  {
   "cell_type": "code",
   "execution_count": 10,
   "metadata": {},
   "outputs": [],
   "source": [
    "# Close hydraulics solver & toolkit */\n",
    "em.ENcloseH()\n",
    "em.ENclose()"
   ]
  },
  {
   "cell_type": "code",
   "execution_count": null,
   "metadata": {},
   "outputs": [],
   "source": []
  }
 ],
 "metadata": {
  "kernelspec": {
   "display_name": "Python 3",
   "language": "python",
   "name": "python3"
  },
  "language_info": {
   "codemirror_mode": {
    "name": "ipython",
    "version": 3
   },
   "file_extension": ".py",
   "mimetype": "text/x-python",
   "name": "python",
   "nbconvert_exporter": "python",
   "pygments_lexer": "ipython3",
   "version": "3.8.10"
  }
 },
 "nbformat": 4,
 "nbformat_minor": 4
}
