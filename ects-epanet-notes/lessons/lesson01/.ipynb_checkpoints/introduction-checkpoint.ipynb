{
 "cells": [
  {
   "cell_type": "markdown",
   "metadata": {},
   "source": [
    "# 1 Hydraulic Networks and Python\n",
    "\n",
    "## Scope and Purpose\n",
    "\n",
    ":::{warning}\n",
    "All the examples are in this notebook are run on server that uses the x86 chipset. I working on builds of EPANET and the Toolkit for the aarch (Raspberry Pi, Arduino, etc.) chipset.  Upon success, I will make these available on this server, and deprecate this message.\n",
    ":::\n",
    "\n",
    "## References\n",
    "\n"
   ]
  },
  {
   "cell_type": "code",
   "execution_count": null,
   "metadata": {},
   "outputs": [],
   "source": []
  }
 ],
 "metadata": {
  "kernelspec": {
   "display_name": "Python 3",
   "language": "python",
   "name": "python3"
  },
  "language_info": {
   "codemirror_mode": {
    "name": "ipython",
    "version": 3
   },
   "file_extension": ".py",
   "mimetype": "text/x-python",
   "name": "python",
   "nbconvert_exporter": "python",
   "pygments_lexer": "ipython3",
   "version": "3.8.10"
  }
 },
 "nbformat": 4,
 "nbformat_minor": 4
}
