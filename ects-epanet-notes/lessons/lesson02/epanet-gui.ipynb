{
 "cells": [
  {
   "cell_type": "markdown",
   "metadata": {},
   "source": [
    "# 2.2 EPANET GUI Examples\n",
    "\n",
    "## Purpose\n",
    "\n",
    "Present several examples using the GUI (freeswmm.ddns.net) to get users familiar with EPANET concepts\n",
    "\n",
    "## Examples\n",
    "\n"
   ]
  },
  {
   "cell_type": "markdown",
   "metadata": {},
   "source": [
    "### Example 1"
   ]
  },
  {
   "cell_type": "markdown",
   "metadata": {},
   "source": [
    "### Example 2"
   ]
  },
  {
   "cell_type": "markdown",
   "metadata": {},
   "source": [
    "### Example 3 : Three-Reservoir-Problem\n",
    "\n",
    "This example is a pretty classic hydraulics problem, that appears in some form in most if not all hydraulics textbooks.  Here it is useful to introduce the concept of a basemap (image) to help draw the network. \n",
    "\n",
    "First the **problem statement**:\n",
    "\n",
    "Reservoirs A, B, and C are connected as shown. \n",
    "The water elevations in reservoirs A, B, and C are 100 m, 80 m, and 60 m. \n",
    "The three pipes connecting the reservoirs meet at junction J, with pipe AJ being 900\n",
    "m long, BJ being 800 m long, and CJ being 700 m long. The diameters of\n",
    "all the pipes are 850 mm. If all the pipes are ductile iron, and the water\n",
    "temperature is 293$^o$K, find the direction and magnitude of flow in each\n",
    "pipe.\n",
    "\n",
    "![](./ex3/EX3.bmp)\n",
    "\n",
    "Here we will first convert the image into a bitmap (.bmp) file so EPANET can import\n",
    "the background image and we can use it to help draw the network. The remainder of\n",
    "the problem is reasonably simple and is an extension of the previous problem.\n",
    "\n",
    "The steps to model the situation are:\n",
    "\n",
    "1. Convert the image into a bitmap, place the bitmap into a directory where the model input file will be stored.\n",
    "2. Start EPANET\n",
    "3. Set defaults\n",
    "4. Import the background.\n",
    "5. Select the reservoir tool. Put three reservoirs on the map.\n",
    "6. Select the node tool, put the node on the map.\n",
    "7. Select the link (pipe) tool, connect the three reservoirs to the node.\n",
    "8. Set the total head each reservoir.\n",
    "9. Set the pipe length, roughness height, and diameter in each pipe.\n",
    "10. Save the input file.\n",
    "11. Run the program.\n",
    "Below is the result of the above steps. \n",
    "\n",
    "![](./ex3/3reservoir-epanet.png)\n",
    "\n",
    "In this case the default units were changed to\n",
    "LPS (liters per second). The roughness height is about 0.26 millimeters (if converted\n",
    "from the 0.85 millifeet unit).\n",
    "\n",
    "#### Files\n",
    "\n",
    "1. [EX3.bmp](http://freeswmm.ddns.net/ects-epanet/ects-epanet-notes/lessons/lesson02/ex3/EX3.bmp) The base image file\n",
    "2. [EX3.net](http://freeswmm.ddns.net/ects-epanet/ects-epanet-notes/lessons/lesson02/ex3/EX3.net) An EPANET input file (binary .net file, readable by the GUI)\n",
    "3. [EX3-1.net](http://freeswmm.ddns.net/ects-epanet/ects-epanet-notes/lessons/lesson02/ex3/EX3-1.net) A different EPANET input file (binary .net file, readable by the GUI)"
   ]
  },
  {
   "cell_type": "code",
   "execution_count": null,
   "metadata": {},
   "outputs": [],
   "source": []
  },
  {
   "cell_type": "markdown",
   "metadata": {},
   "source": [
    "### Example 4"
   ]
  },
  {
   "cell_type": "markdown",
   "metadata": {},
   "source": [
    "### Example 5"
   ]
  },
  {
   "cell_type": "markdown",
   "metadata": {},
   "source": []
  },
  {
   "cell_type": "markdown",
   "metadata": {},
   "source": []
  },
  {
   "cell_type": "markdown",
   "metadata": {},
   "source": []
  },
  {
   "cell_type": "markdown",
   "metadata": {},
   "source": []
  }
 ],
 "metadata": {
  "kernelspec": {
   "display_name": "Python 3",
   "language": "python",
   "name": "python3"
  },
  "language_info": {
   "codemirror_mode": {
    "name": "ipython",
    "version": 3
   },
   "file_extension": ".py",
   "mimetype": "text/x-python",
   "name": "python",
   "nbconvert_exporter": "python",
   "pygments_lexer": "ipython3",
   "version": "3.8.10"
  }
 },
 "nbformat": 4,
 "nbformat_minor": 4
}
