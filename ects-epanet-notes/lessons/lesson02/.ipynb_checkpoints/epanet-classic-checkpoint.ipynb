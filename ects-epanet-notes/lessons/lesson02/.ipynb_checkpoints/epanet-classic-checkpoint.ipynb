{
 "cells": [
  {
   "cell_type": "markdown",
   "metadata": {},
   "source": [
    "# 2 EPANET Intro/Examples\n",
    "\n",
    "what is epanet?\n",
    "\n",
    "## Purpose\n",
    "what is it for?\n",
    "\n",
    "versions\n",
    "\n",
    "### GUI Access\n",
    "\n",
    "EPANET as supplied by URL also includes a graphical user interface (GUI) that will allow one to quickly build network simulation models, run them, and present results.  The GUI runs on Windows machines using Intel/AMD hardware.  It can be made to run on other operating systems and architectures, but not easily.\n",
    "\n",
    "```{admonition} Architectures and Operating Systems\n",
    "The EPANET computation engine can be made to work in different operating systems with very little fuss.  In fact the current OWS versions all employ CMAKE to build targets for the big-three Operating Systems (Windows, Mac, Linux).\n",
    "\n",
    "Architecture refers to the underlying silicon; x86-64 is an Intel/AMD 64-bit chipset, aarch64 is the ARM 64-bit chipset.\n",
    "\n",
    "At the time of this writing builds for aarch64 are kind of up to the end-user;  I have notes herein on how-to do so.  Why anyone would want to make such a build is to leverage embedded systems with intent to use the program to control things.  I am aware most people are going to be using a Windows machine on Intel hardware and special instructions specific to ARM hardware is meaningless.\n",
    "```\n",
    "\n",
    "### EPANET On-Line Access\n",
    "\n",
    "An on-line version herein uses the WINE application layer to run an implementation of EPANET with the \"Classic\" GUI on a Linux server, on an Intel x86-64 chipset.  \n",
    "\n",
    "Access is as simple as \n",
    "## EPANET by Example\n",
    "\n",
    "## Exercises\n"
   ]
  },
  {
   "cell_type": "code",
   "execution_count": null,
   "metadata": {},
   "outputs": [],
   "source": []
  }
 ],
 "metadata": {
  "kernelspec": {
   "display_name": "Python 3",
   "language": "python",
   "name": "python3"
  },
  "language_info": {
   "codemirror_mode": {
    "name": "ipython",
    "version": 3
   },
   "file_extension": ".py",
   "mimetype": "text/x-python",
   "name": "python",
   "nbconvert_exporter": "python",
   "pygments_lexer": "ipython3",
   "version": "3.8.10"
  }
 },
 "nbformat": 4,
 "nbformat_minor": 4
}
