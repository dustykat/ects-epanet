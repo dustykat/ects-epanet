{
 "cells": [
  {
   "cell_type": "markdown",
   "metadata": {},
   "source": [
    "# 4.X Build Notes\n",
    "\n",
    "## Purpose\n",
    "\n",
    "This section is a record of various \"build\" notes for running epanet on a Raspberry Pi - the development machine for this entire short course!\n",
    "\n",
    ":::{note}\n",
    "The \"online-EPANET\" used for the GUI-based examples is run on Intel-based hardware, and was \"built\" simply by installing it in the WINE application layer.  Oddly enough, it worked well enough for the needs of this document (although moving and resizing the window does not work).  I could not make WINE deliver EPANET with the GUI on a Raspberry Pi;  someday I will try QEMU - that may be more sucessful; but that's emulation not an application layer translation - there is no great reason to do so other than it would be cool.\n",
    ":::\n",
    "\n",
    "### Building the CLE program.\n",
    "\n",
    "The command-line environment build is straightforward.  The following is verbatim from the original programmers notes:\n",
    "\n",
    "```\n",
    "INSTRUCTIONS FOR COMPILING THE COMMAND LINE VERSION OF EPANET\n",
    "            USING THE GNU C/C++ COMPILER ON LINUX\n",
    "=====================================================================\n",
    "\n",
    "1. Open the file EPANET.C in a text editor and make sure the line\n",
    "       #define CLE\n",
    "   is not commented out while the lines\n",
    "       #define DLL\n",
    "       #define SOL\n",
    "   are commented out.\n",
    "\n",
    "2. Copy the file \"Makefile\" to the directory where the EPANET engine\n",
    "   source code files are located.\n",
    "\n",
    "3. Open a console shell and navigate to the EPANET engine source\n",
    "   code directory.\n",
    "\n",
    "4. Issue the command:\n",
    "\n",
    "      make\n",
    "\n",
    "   to create an executable named epanet2.\n",
    "```\n",
    "\n",
    ":::{note}\n",
    "1. The above also works fine on MacOS, but you have to supply at path to `malloc.c`.  On my Macintosh, the file did not exist, but a Google search turned up one that when running the compiler seemed to function.  That was circa 2017, I am sure it is no longer an issue.\n",
    "\n",
    "2. On my RPI, I could compile once, if I wished to recompile I would have to destroy all copies of the objects (`rm -f *.o`) before running `make`.  Even as root this was the case, so give this a try if you run into \"file not found\" errors on the make utility.\n",
    "\n",
    "3. On my RPI, I got a lot of warnings from the compiler.  I choose to ignore them and did not attempt to chase down the causes.  I suspect (in my case) it was a result of forcing 64-bit objects from older code.  I'll add a note if I get around to using newer code - for this short course I know the older code should work, so started there first. Why?  Because my intent is to use EPANET as a supervisory simulator to actually issue control commands to a network via an RPI controller, mostly for teaching, but also as a more intelligent way to water an indoor garden.\n",
    ":::\n",
    "\n",
    "A screen capture from my computer is shown\n",
    "\n",
    "![](cle_build.png)"
   ]
  },
  {
   "cell_type": "markdown",
   "metadata": {},
   "source": [
    "### Files"
   ]
  },
  {
   "cell_type": "markdown",
   "metadata": {},
   "source": []
  },
  {
   "cell_type": "code",
   "execution_count": null,
   "metadata": {},
   "outputs": [],
   "source": []
  }
 ],
 "metadata": {
  "kernelspec": {
   "display_name": "Python 3",
   "language": "python",
   "name": "python3"
  },
  "language_info": {
   "codemirror_mode": {
    "name": "ipython",
    "version": 3
   },
   "file_extension": ".py",
   "mimetype": "text/x-python",
   "name": "python",
   "nbconvert_exporter": "python",
   "pygments_lexer": "ipython3",
   "version": "3.8.10"
  }
 },
 "nbformat": 4,
 "nbformat_minor": 4
}
