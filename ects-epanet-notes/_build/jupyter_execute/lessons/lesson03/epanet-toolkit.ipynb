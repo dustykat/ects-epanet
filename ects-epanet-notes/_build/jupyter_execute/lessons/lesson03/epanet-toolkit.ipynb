{
 "cells": [
  {
   "cell_type": "markdown",
   "metadata": {},
   "source": [
    "# 3 EPANET Programmers Toolkit\n",
    "\n",
    "The EPANET Programmer's Toolkit is a software applications programming interface (API) designed to facilitate the analysis and simulation of water distribution networks. Developed by the United States Environmental Protection Agency (EPA), EPANET is widely recognized as a comprehensive and reliable hydraulic and water quality modeling tool. The EPANET Programmer's Toolkit offers engineers and researchers the ability to harness the full potential of EPANET's capabilities, providing a platform for advanced water network analysis and optimization, directly accessing the computation engine without requiring the Graphical User Interface (GUI), or running the program in a batch mode with a prebuilt input file."
   ]
  },
  {
   "cell_type": "markdown",
   "metadata": {},
   "source": [
    "## Overview\n",
    "\n",
    "The EPANET Programmer's Toolkit provides essential functions that allow users to manipulate EPANET models and retrieve critical information for hydraulic and water quality analysis. With the toolkit, users can access network data such as pipe and node properties, demand patterns, and control settings. This information can be modified or updated programmatically, enabling engineers to conduct what-if scenarios, optimize system design, and assess the impact of various operational strategies on network performance.\n",
    "\n",
    "One of the toolkit's key features is its ability to perform hydraulic and water quality simulations. Users can dynamically simulate water flow and pressure behavior in the network, enabling accurate prediction of system performance under different operating conditions. Moreover, the toolkit allows for the analysis of water quality parameters, such as chlorine concentration and contaminant transport, aiding in the evaluation of water safety and compliance with regulatory standards.\n",
    "\n",
    "The EPANET Programmer's Toolkit empowers water industry professionals to tackle complex water network challenges with greater efficiency and accuracy. By leveraging its capabilities, engineers can optimize pipe sizing, evaluate system resilience, and assess the impact of infrastructure changes on network performance. The toolkit's ability to perform advanced simulations and analysis aids in the identification of potential issues, facilitating proactive decision-making and improving overall water network management. Furthermore, the EPANET Programmer's Toolkit plays a crucial role in supporting research and innovation in the field of water distribution system analysis, fostering the development of new methodologies and solutions to address emerging challenges in water management.\n",
    "\n",
    ":::{note} link to EPANET toolkit description here :::"
   ]
  },
  {
   "cell_type": "markdown",
   "metadata": {},
   "source": [
    "## Purpose\n",
    "\n",
    "The primary purpose of the EPANET Programmer's Toolkit is to enhance the functionality of EPANET and enable users to access its full potential in water distribution network analysis. The Toolkit serves as an **interface** that allows engineers and researchers to programmatically access and manipulate EPANET models, retrieve critical information, and perform hydraulic and water quality simulations without having to access the model through the Graphical User Interface (GUI). By providing essential modeling access functions, integration capabilities, and customization options, the toolkit enables analysts to conduct in-depth analysis, optimize system design, and evaluate the performance of water networks under various operational conditions.\n",
    "\n",
    "The EPANET Programmer's Toolkit supports integration with various programming languages, including C, C++, and Python, making it end-user adaptable to different software development environments. This flexibility allows engineers and researchers to leverage their preferred programming languages and frameworks, facilitating seamless integration with existing tools and workflows. Additionally, the toolkit's extensive Application Programming Interface (API) documentation and code examples provide valuable resources for developers, enabling them to extend EPANET's functionality and customize the software to meet specific project requirements."
   ]
  },
  {
   "cell_type": "markdown",
   "metadata": {},
   "source": [
    "## Installing on a Raspberry Pi \n",
    "\n",
    "This section is specific to my development computer - the process is:\n",
    "\n",
    "1. Download source files.\n",
    "2. Build a shared object library.\n",
    "2. Copy the library (or path to the library) into a working directory where you intend to run scripts.\n",
    "3. Write and run your scripts to implement EPANET from python.\n",
    "\n",
    "### Download source files\n",
    "\n",
    "Easiest is to create a directory, navigate to that directory, then clone the GitHub repository.\n",
    "\n",
    "```\n",
    "# As regular user or root user\n",
    "mkdir en2toolkit\n",
    "cd en2toolkit \n",
    "git clone https://github.com/OpenWaterAnalytics/EPANET.git  #clone the remote into the directory\n",
    "```\n",
    "\n",
    "After the repository is cloned, step 1 above is complete"
   ]
  },
  {
   "cell_type": "markdown",
   "metadata": {},
   "source": [
    "### Build a shared object library\n",
    "\n",
    "From here need to work as superuser, so either change to root or use sudoprefix to the directives. I switched to the root user because my regular user cannot issue superuser commands.  Then issue the `cmake ..` directive to compile the objects for linking into the package.  After that completes then issue the `cmake --build . --config Release` directive and let it run to (hopefully successful) completion.\n",
    "\n",
    "![](buildtools1of2.png)\n",
    "\n",
    "After that completes then the library is found in the `\\lib` directory.  Simply copy it into the work directory where you want to model.  A symbolic link added into the `PATH` environment variable is another way to proceede.\n",
    "\n",
    "![](buildtools2of2.png)\n",
    "\n",
    "Now to test the build of the shared object modules.  Import the interface module (listing below) which is stored as a file in our workspace.\n",
    "\n",
    "[epamodule.py (from OWA GitHub)](http://freeswmm.ddns.net/ects-epanet/ects-epanet-notes/lessons/lesson01/pipenet.py) This is a copy from my server - specificially modified for my Raspberry Pi - the mods are in the first few lines; i left notes!\n",
    "\n",
    "[link to OWA GitHub](https://github.com/OpenWaterAnalytics) you may find you can get the `EPyT` repository to work or you - it essentially is aimed at same end goal as this course, but has some of the graphics details better worked out.\n",
    "\n",
    "### Copy the library to the working directory\n",
    "\n",
    "For my example herein, I copied the build into:\n",
    "`http://ects-epanet/ects-epanet-notes/lessons/lesson03/`\n",
    "\n",
    "I also copied two EPANET input files `Net1.inp` and `Net1g.inp`  \n",
    "\n",
    "The listing below shows the directory, you can see the shared object library at the end of the listing, as well as the two input files for subsequent examples.  Also note the presence of a file named `epamodule.py` which is used below to access the toolkit."
   ]
  },
  {
   "cell_type": "code",
   "execution_count": 1,
   "metadata": {},
   "outputs": [
    {
     "name": "stdout",
     "output_type": "stream",
     "text": [
      "total 1588\r\n",
      "drwxrwxr-x 11 sensei sensei   4096 Aug  4 10:19 .\r\n",
      "drwxrwxr-x  8 sensei sensei   4096 Jul 29 06:04 ..\r\n",
      "drwxrwxr-x  2 sensei sensei   4096 Aug  4 10:02 .ipynb_checkpoints\r\n",
      "-rw-rw-r--  1 sensei sensei  31504 Aug  4 09:54 ICTSummerSchool2023.ipynb.bak\r\n",
      "-rw-rw-r--  1 sensei sensei   3732 Aug  4 09:44 Junk.rpt\r\n",
      "-rw-rw-r--  1 sensei sensei   6304 Jun 13 00:23 Net1.inp\r\n",
      "-rw-rw-r--  1 sensei sensei  46587 Jun 13 00:22 Net1.out\r\n",
      "-rw-rw-r--  1 sensei sensei  42849 Aug  4 10:19 Net1.rpt\r\n",
      "-rw-rw-r--  1 sensei sensei   6305 Jun 13 00:28 Net1g.inp\r\n",
      "-rw-rw-r--  1 sensei sensei  46674 Aug  4 10:03 Net1g.rpt\r\n",
      "drwxrwxr-x  2 sensei sensei   4096 Jul 28 19:24 __pycache__\r\n",
      "-rw-rw-r--  1 sensei sensei 387806 Jun 12 23:33 buildtools1of2.png\r\n",
      "-rw-rw-r--  1 sensei sensei 402767 Jun 12 23:33 buildtools2of2.png\r\n",
      "-rw-rw-r--  1 sensei sensei    169 Aug  4 07:44 enlkyr5b\r\n",
      "-rw-rw-r--  1 sensei sensei     69 Jul 28 18:44 ensYZnxU\r\n",
      "-rw-rw-r--  1 sensei sensei     69 Jul 28 18:41 enxPe9Sj\r\n",
      "-rw-rw-r--  1 sensei sensei  32610 Jul 28 19:24 epamodule.py\r\n",
      "-rw-rw-r--  1 sensei sensei   5227 Jun  8 17:22 epanet-rules.ipynb.bak\r\n",
      "-rw-rw-r--  1 sensei sensei   8668 Aug  4 10:08 epanet-rulesAPI.ipynb\r\n",
      "-rw-rw-r--  1 sensei sensei  38834 Aug  4 10:10 epanet-rulesCLI.ipynb\r\n",
      "-rw-rw-r--  1 sensei sensei  33946 Aug  4 10:12 epanet-rulesGUI.ipynb\r\n",
      "-rw-rw-r--  1 sensei sensei    779 Jul 29 06:52 epanet-sensors.ipynb\r\n",
      "-rw-rw-r--  1 sensei sensei  16736 Aug  4 10:18 epanet-toolkit.ipynb\r\n",
      "drwxrwxr-x  3 sensei sensei   4096 Aug  4 08:58 ex1-cr\r\n",
      "drwxrwxr-x  3 sensei sensei   4096 Aug  4 10:19 ex1-tk\r\n",
      "drwxrwxr-x  2 sensei sensei   4096 Aug  1 05:59 ex11-tk\r\n",
      "drwxrwxr-x  3 sensei sensei   4096 Jul 29 06:31 ex2-tk\r\n",
      "drwxrwxr-x  3 sensei sensei   4096 Aug  4 07:46 ex3-tk\r\n",
      "drwxrwxr-x  3 sensei sensei   4096 Jul 29 10:31 ex4-tk\r\n",
      "drwxrwxr-x  3 sensei sensei   4096 Aug  4 08:52 ex5-tk\r\n",
      "-rw-rw-r--  1 sensei sensei  15189 Jun 12 23:26 example2.inp\r\n",
      "-rw-rw-r--  1 sensei sensei    572 Jun 13 00:02 example2.rpt\r\n",
      "-rwxr-xr-x  1 sensei sensei 400904 Jun 12 23:22 libepanet2.so\r\n"
     ]
    }
   ],
   "source": [
    "! ls -la"
   ]
  },
  {
   "cell_type": "markdown",
   "metadata": {},
   "source": [
    "### Write and run your scripts to implement EPANET from python.\n",
    "\n",
    "Below we demonstrate the last step, to write and run scripts that implement EPANET from our iPython kernel.\n",
    "\n",
    "First import the `epamodule.py` package."
   ]
  },
  {
   "cell_type": "code",
   "execution_count": 2,
   "metadata": {},
   "outputs": [],
   "source": [
    "import epamodule as em  # import the package"
   ]
  },
  {
   "cell_type": "markdown",
   "metadata": {},
   "source": [
    "Then run an example"
   ]
  },
  {
   "cell_type": "code",
   "execution_count": 3,
   "metadata": {},
   "outputs": [],
   "source": [
    "em.ENepanet(\"./ex1-tk/EX1tk.inp\", \"./ex1-tk/EX1yk-live.rpt\") # runs a complete simulation. input file must exist and have contents."
   ]
  },
  {
   "cell_type": "code",
   "execution_count": 4,
   "metadata": {},
   "outputs": [
    {
     "name": "stdout",
     "output_type": "stream",
     "text": [
      "  Page 1                                    Fri Aug  4 10:19:57 2023\r\n",
      "\r\n",
      "  ******************************************************************\r\n",
      "  *                           E P A N E T                          *\r\n",
      "  *                   Hydraulic and Water Quality                  *\r\n",
      "  *                   Analysis for Pipe Networks                   *\r\n",
      "  *                         Version 2.2                            *\r\n",
      "  ******************************************************************\r\n",
      "  \r\n",
      "   \r\n",
      "      Input Data File ................... ./ex1-tk/EX1tk.inp\r\n",
      "      Number of Junctions................ 1\r\n",
      "      Number of Reservoirs............... 1\r\n",
      "      Number of Tanks ................... 0\r\n",
      "      Number of Pipes ................... 1\r\n",
      "      Number of Pumps ................... 0\r\n",
      "      Number of Valves .................. 0\r\n",
      "      Headloss Formula .................. Darcy-Weisbach\r\n",
      "      Nodal Demand Model ................ DDA\r\n",
      "      Hydraulic Timestep ................ 1.00 hrs\r\n",
      "      Hydraulic Accuracy ................ 0.001000\r\n",
      "      Status Check Frequency ............ 2\r\n",
      "      Maximum Trials Checked ............ 10\r\n",
      "      Damping Limit Threshold ........... 0.000000\r\n",
      "      Maximum Trials .................... 40\r\n",
      "      Quality Analysis .................. None\r\n",
      "      Specific Gravity .................. 1.00\r\n",
      "      Relative Kinematic Viscosity ...... 1.00\r\n",
      "      Relative Chemical Diffusivity ..... 1.00\r\n",
      "      Demand Multiplier ................. 1.00\r\n",
      "      Total Duration .................... 0.00 hrs\r\n",
      "      Reporting Criteria:\r\n",
      "         All Nodes\r\n",
      "         All Links\r\n",
      "   \r\n",
      "  Analysis begun Fri Aug  4 10:19:57 2023\r\n",
      "\r\n",
      "   \r\n",
      "  Node Results:\r\n",
      "  ----------------------------------------------\r\n",
      "                     Demand      Head  Pressure\r\n",
      "  Node                  cfs        ft       psi\r\n",
      "  ----------------------------------------------\r\n",
      "  2                  295.00     26.93     11.67\r\n",
      "  R1                -295.00    100.00      0.00  Reservoir\r\n",
      "   \r\n",
      "   \r\n",
      "  Link Results:\r\n",
      "  ----------------------------------------------\r\n",
      "                       Flow  Velocity  Headloss\r\n",
      "  Link                  cfs       fps   /1000ft\r\n",
      "  ----------------------------------------------\r\n",
      "  frenchy            295.00     15.02      7.31\r\n",
      "   \r\n",
      "  Analysis ended Fri Aug  4 10:19:57 2023\r\n"
     ]
    }
   ],
   "source": [
    "! cat ./ex1-tk/EX1yk-live.rpt"
   ]
  },
  {
   "cell_type": "markdown",
   "metadata": {},
   "source": [
    "Now same example but more granular control.  "
   ]
  },
  {
   "cell_type": "code",
   "execution_count": 5,
   "metadata": {},
   "outputs": [],
   "source": [
    "#Open the EPANET toolkit & hydraulics solver   \n",
    "em.ENopen(\"Net1g.inp\", \"Net1g.rpt\")\n",
    "em.ENopenH()\n",
    "em.ENsolveH()\n",
    "em.ENsaveH() # need to save to a binary file before write\n",
    "em.ENcloseH()\n",
    "em.ENopenQ()\n",
    "em.ENsolveQ()\n",
    "em.ENreport() # now write report\n",
    "# Close hydraulics solver & toolkit */\n",
    "em.ENclose()"
   ]
  },
  {
   "cell_type": "markdown",
   "metadata": {},
   "source": [
    "## References\n",
    "\n",
    "1. [OpenWaterAnalytics(epanet-python)](https://github.com/OpenWaterAnalytics/epanet-python/) The GitHub source for the `epamodule.py` above.\n",
    "3. [https://github.com/OpenWaterAnalytics/epanet/](https://github.com/OpenWaterAnalytics/epanet/) The GitHub source for the code and build instructions for the shared object library above.\n",
    "4. [EPANET (EPA website)](https://www.epa.gov/water-research/epanet)  Links to current EPA distributed EPANET programs and source files.\n",
    "5. [EPANET2.2](https://github.com/USEPA/EPANET2.2)  EPA GitHub source.\n",
    "6. [EPANETTOOLS1.0.0 (A pypi.org package) ](https://pypi.org/project/EPANETTOOLS/)  A package manager for EPANETTOOLS.\n",
    "7. [mycopy](http://#) Link to modified copy of `epamodule.py`\n",
    "8. [Net1.inp](http://#) Link to modified copy of\n",
    "9. [Net1g.inp](http://#) Link to modified copy of\n",
    "\n",
    ":::{note}\n",
    "Most of these sites cross-share content, so whether using OWA or EPA official you are likely getting the same program; if its use is for some official capacity (like a water utility) use the EPA sites as your source.\n",
    ":::"
   ]
  },
  {
   "cell_type": "markdown",
   "metadata": {},
   "source": [
    "## Links\n",
    "\n",
    "1. [Directory with epamodule.py and libepanet2.so (for a Ubuntu/Raspberry Pi)](http://freeswmm.ddns.net/ects-epanet/ects-epanet-notes/lessons/lesson03)  You probably have to build the `.so` on your own machine - but you can at least examine the structure here\n",
    "\n",
    "2. [Directory of my `en2` on a raspberry pi](http://freeswmm.ddns.net/ects-epanet/en2/).  Again you probably have to do own builds - but you can examine structure.\n"
   ]
  },
  {
   "cell_type": "markdown",
   "metadata": {},
   "source": []
  },
  {
   "cell_type": "markdown",
   "metadata": {},
   "source": []
  }
 ],
 "metadata": {
  "kernelspec": {
   "display_name": "Python 3",
   "language": "python",
   "name": "python3"
  },
  "language_info": {
   "codemirror_mode": {
    "name": "ipython",
    "version": 3
   },
   "file_extension": ".py",
   "mimetype": "text/x-python",
   "name": "python",
   "nbconvert_exporter": "python",
   "pygments_lexer": "ipython3",
   "version": "3.8.10"
  }
 },
 "nbformat": 4,
 "nbformat_minor": 4
}