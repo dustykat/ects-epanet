{
 "cells": [
  {
   "cell_type": "markdown",
   "metadata": {},
   "source": [
    "# 3.4 EPANET Control Rules using the Toolkit\n",
    "\n",
    "## Purpose\n",
    "\n",
    "## Installation\n",
    "\n",
    "## Examples\n",
    "\n",
    "The script below manipulates the `Net1.inp` example."
   ]
  },
  {
   "cell_type": "code",
   "execution_count": 1,
   "metadata": {},
   "outputs": [
    {
     "ename": "OSError",
     "evalue": "./libepanet2.so: cannot open shared object file: No such file or directory",
     "output_type": "error",
     "traceback": [
      "\u001b[0;31m---------------------------------------------------------------------------\u001b[0m",
      "\u001b[0;31mOSError\u001b[0m                                   Traceback (most recent call last)",
      "Cell \u001b[0;32mIn[1], line 2\u001b[0m\n\u001b[1;32m      1\u001b[0m \u001b[38;5;66;03m## simple rules\u001b[39;00m\n\u001b[0;32m----> 2\u001b[0m \u001b[38;5;28;01mimport\u001b[39;00m \u001b[38;5;21;01mepamodule\u001b[39;00m \u001b[38;5;28;01mas\u001b[39;00m \u001b[38;5;21;01mem\u001b[39;00m  \u001b[38;5;66;03m# import the package\u001b[39;00m\n\u001b[1;32m      3\u001b[0m \u001b[38;5;66;03m#Open the EPANET toolkit & hydraulics solver   \u001b[39;00m\n\u001b[1;32m      4\u001b[0m em\u001b[38;5;241m.\u001b[39mENopen(\u001b[38;5;124m\"\u001b[39m\u001b[38;5;124m./ex1-cr/Net1.inp\u001b[39m\u001b[38;5;124m\"\u001b[39m, \u001b[38;5;124m\"\u001b[39m\u001b[38;5;124m./ex1-cr/Net1-tk.rpt\u001b[39m\u001b[38;5;124m\"\u001b[39m)\n",
      "File \u001b[0;32m~/ects-epanet/ects-epanet-notes/lessons/lesson03/epamodule.py:12\u001b[0m\n\u001b[1;32m     10\u001b[0m _plat\u001b[38;5;241m=\u001b[39m platform\u001b[38;5;241m.\u001b[39msystem()\n\u001b[1;32m     11\u001b[0m \u001b[38;5;28;01mif\u001b[39;00m _plat\u001b[38;5;241m==\u001b[39m\u001b[38;5;124m'\u001b[39m\u001b[38;5;124mLinux\u001b[39m\u001b[38;5;124m'\u001b[39m:\n\u001b[0;32m---> 12\u001b[0m   _lib \u001b[38;5;241m=\u001b[39m \u001b[43mctypes\u001b[49m\u001b[38;5;241;43m.\u001b[39;49m\u001b[43mCDLL\u001b[49m\u001b[43m(\u001b[49m\u001b[38;5;124;43m\"\u001b[39;49m\u001b[38;5;124;43m./libepanet2.so\u001b[39;49m\u001b[38;5;124;43m\"\u001b[39;49m\u001b[43m)\u001b[49m \u001b[38;5;66;03m# For My Raspberry Pi\u001b[39;00m\n\u001b[1;32m     13\u001b[0m \u001b[38;5;66;03m##  _lib = ctypes.CDLL(\"./en2tools.so.1.5.0\")\u001b[39;00m\n\u001b[1;32m     14\u001b[0m \u001b[38;5;66;03m##  _lib = ctypes.CDLL(\"./epanet2toolkit.so\")\u001b[39;00m\n\u001b[1;32m     15\u001b[0m \u001b[38;5;28;01melif\u001b[39;00m _plat\u001b[38;5;241m==\u001b[39m\u001b[38;5;124m'\u001b[39m\u001b[38;5;124mWindows\u001b[39m\u001b[38;5;124m'\u001b[39m:\n",
      "File \u001b[0;32m/usr/lib/python3.10/ctypes/__init__.py:374\u001b[0m, in \u001b[0;36mCDLL.__init__\u001b[0;34m(self, name, mode, handle, use_errno, use_last_error, winmode)\u001b[0m\n\u001b[1;32m    371\u001b[0m \u001b[38;5;28mself\u001b[39m\u001b[38;5;241m.\u001b[39m_FuncPtr \u001b[38;5;241m=\u001b[39m _FuncPtr\n\u001b[1;32m    373\u001b[0m \u001b[38;5;28;01mif\u001b[39;00m handle \u001b[38;5;129;01mis\u001b[39;00m \u001b[38;5;28;01mNone\u001b[39;00m:\n\u001b[0;32m--> 374\u001b[0m     \u001b[38;5;28mself\u001b[39m\u001b[38;5;241m.\u001b[39m_handle \u001b[38;5;241m=\u001b[39m \u001b[43m_dlopen\u001b[49m\u001b[43m(\u001b[49m\u001b[38;5;28;43mself\u001b[39;49m\u001b[38;5;241;43m.\u001b[39;49m\u001b[43m_name\u001b[49m\u001b[43m,\u001b[49m\u001b[43m \u001b[49m\u001b[43mmode\u001b[49m\u001b[43m)\u001b[49m\n\u001b[1;32m    375\u001b[0m \u001b[38;5;28;01melse\u001b[39;00m:\n\u001b[1;32m    376\u001b[0m     \u001b[38;5;28mself\u001b[39m\u001b[38;5;241m.\u001b[39m_handle \u001b[38;5;241m=\u001b[39m handle\n",
      "\u001b[0;31mOSError\u001b[0m: ./libepanet2.so: cannot open shared object file: No such file or directory"
     ]
    }
   ],
   "source": [
    "## simple rules\n",
    "import epamodule as em  # import the package\n",
    "#Open the EPANET toolkit & hydraulics solver   \n",
    "em.ENopen(\"./ex1-cr/Net1.inp\", \"./ex1-cr/Net1-tk.rpt\")\n",
    "# build report command strings Keyword  Action see user manual\n",
    "command0 = \"Status     Yes\"\n",
    "command1 = \"Summary            \tYes\"\n",
    "command2 = \"Nodes            \tALL\"\n",
    "command3 = \"Links            \tALL\"\n",
    "#em.ENsetstatusreport(2) # full status report\n",
    "em.ENsetreport(command0)\n",
    "em.ENsetreport(command1)\n",
    "em.ENsetreport(command2)\n",
    "em.ENsetreport(command3)\n",
    "em.ENsaveinpfile(\"./ex1-cr/Net1-tk.inp\") #overwrite the input file\n",
    "nodej = em.ENgetnodeindex(\"2\")\n",
    "linkp = em.ENgetlinkindex(\"9\")\n",
    "print(\"Control Sensor Node: \",nodej,\"Controlled Link: \",linkp)\n",
    "outstr = em.ENgetcontrol(1)\n",
    "print(\"Control Type: \",outstr[0],\" Controlled Link: \",\\\n",
    "      outstr[1],\" Control Action: \",outstr[2],\" Control Sensor Node: \",\\\n",
    "      outstr[3],\"Control Value: \",outstr[4])\n",
    "outstr = em.ENgetcontrol(2)\n",
    "print(\"Control Type: \",outstr[0],\" Controlled Link: \",\\\n",
    "      outstr[1],\" Control Action: \",outstr[2],\" Control Sensor Node: \",\\\n",
    "      outstr[3],\"Control Value: \",outstr[4])\n",
    "#print(outstr)\n",
    "em.ENclose()\n",
    "# now run from the new file\n",
    "# now run from the new file\n",
    "em.ENopen(\"./ex1-cr/Net1-tk.inp\", \"./ex1-cr/Net1-tk.rpt\")\n",
    "em.ENopenH()\n",
    "em.ENsolveH()\n",
    "em.ENsaveH() # need to save to a binary file before write\n",
    "em.ENcloseH()\n",
    "em.ENopenQ()\n",
    "em.ENsolveQ()\n",
    "em.ENreport() # now write report\n",
    "# Close hydraulics solver & toolkit */\n",
    "em.ENclose()\n",
    "! cat ./ex1-cr/Net1-tk.rpt"
   ]
  },
  {
   "cell_type": "markdown",
   "metadata": {},
   "source": [
    "## Links to Server \n",
    "\n",
    "1. [Control Example Files (above)](http://freeswmm.ddns.net/ects-epanet/ects-epanet-notes/lessons/lesson03/ex1-cr)\n",
    "\n",
    "## Videos\n",
    "\n",
    "1. [Looped Network by GUI and Toolkit](https://youtu.be/8uU6FX_eV64)\n",
    "\n",
    "2. [Simple Toolkit Examples](https://youtu.be/HJTT8JTXOhE)\n",
    "\n",
    "3. [Complex System by GUI](https://youtu.be/icosl3r-qAE)\n",
    "\n",
    "4. [Pumps by Toolkit](https://youtu.be/uuy_uuX4b_Y)"
   ]
  },
  {
   "cell_type": "code",
   "execution_count": null,
   "metadata": {},
   "outputs": [],
   "source": []
  }
 ],
 "metadata": {
  "kernelspec": {
   "display_name": "Python 3",
   "language": "python",
   "name": "python3"
  },
  "language_info": {
   "codemirror_mode": {
    "name": "ipython",
    "version": 3
   },
   "file_extension": ".py",
   "mimetype": "text/x-python",
   "name": "python",
   "nbconvert_exporter": "python",
   "pygments_lexer": "ipython3",
   "version": "3.10.12"
  }
 },
 "nbformat": 4,
 "nbformat_minor": 4
}