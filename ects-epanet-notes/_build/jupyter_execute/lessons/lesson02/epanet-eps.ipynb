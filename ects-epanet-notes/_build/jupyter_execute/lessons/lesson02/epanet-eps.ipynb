{
 "cells": [
  {
   "cell_type": "markdown",
   "metadata": {},
   "source": [
    "# 2.3 Extended period simulation (EPS)\n",
    "\n",
    "Hydraulic network analysis plays a crucial role in ensuring efficient and reliable water distribution systems. One of the key tools used in this analysis is the extended period simulation (EPS). EPS is a dynamic modeling approach that takes into account varying demand patterns and system behavior over an extended period.<br>\n",
    "\n",
    "## Purpose\n",
    "EPS is a representation is used to mimic dynamic behavior in a system.  Not strictly transient, but changes are tracked to approximate filling/draining of tanks and discharge moving along a pump curve.  EPS is also the fundamental concept needed to allow for water quality simulations in EPANET.\n",
    "\n",
    "### Background\n",
    "\n",
    "Quoting from [Bhave, P. R. (1988)](http://freeswmm.ddns.net/ects-epanet/ects-epanet-notes/lessons/readings/(ASCE)0733-9372(1988)114-5(1146).pdf)\n",
    "\n",
    ">The common practice  of analyzing  flow  in water-distribution  systems  is to model the flow to be in a steady-state condition. This is \"static  analysis.\"  However,  neither  the nodal demands nor the reservoir water levels  remain  constant  over  a period  of time.  To  ensure  an  adequate  level  of  service  to  the  consumers  under  varying  conditions  of  demands  and  reservoir  water  levels, proper  operation  of the  distribution  system  is  necessary.  From  an  operational  point  of  view,  it  is necessary  to  adequately  maintain  the  flow  rates  and pressures  (residual  heads) at  all nodes  at various times; it  is also necessary  to  manage  the  storage  to  balance  the  supply  and  distribution.  These  objectives   can  be  achieved  by  carrying  out  the  analysis  of  the  network  over  a  period  of  24-48  hr  under  varying  nodal  demands  and  reservoir  water  levels.  Such  an  analysis  of  the  distribution  system  is  an  **extended  period  simulation**  or  simply  a  \"dynamic  analysis.\" \n",
    "\n",
    "An alternate description is:\n",
    "\n",
    ">\n",
    "> - Extended period simulation involves the continuous analysis of a hydraulic network over an extended period, typically ranging from 24 to 72 hours or longer. Unlike traditional steady-state analysis, which assumes constant demand and neglects temporal changes, EPS incorporates time-varying demands, varying pressure conditions, and operational changes within the network. By capturing the temporal dynamics of the system, EPS enables a more accurate assessment of system performance and identifies potential issues that might arise due to demand fluctuations.<br>\n",
    "> - EPS provides a comprehensive understanding of how a water distribution system behaves over time. By considering dynamic factors such as diurnal demand patterns, changes in water source availability, and varying pressure zones, EPS enables engineers to evaluate the performance of the network under realistic operating conditions. This analysis helps identify potential issues, such as insufficient pressure, low flow, or inadequate system capacity, that might occur during peak demand periods or emergency scenarios.<br>\n",
    "> - EPS allows engineers to simulate and assess different operational strategies and infrastructure improvements. By modeling various scenarios, such as system expansion, adding storage tanks, or optimizing pump scheduling, EPS helps evaluate the impact of these changes on the network's overall performance. This analysis aids in decision-making processes, as engineers can identify cost-effective solutions that enhance system reliability, reduce energy consumption, and improve overall efficiency.<br>\n",
    "> -  In addition to its role in system design and optimization, EPS plays a crucial role in real-time monitoring and control of water distribution networks. By continuously updating the simulation model with real-time data, EPS can predict system behavior, detect anomalies, and provide valuable insights for system operators. This information enables operators to make informed decisions to mitigate potential issues, respond to emergencies, and improve the overall performance of the network.<br>\n",
    "\n",
    "Extended period simulation is a powerful tool in hydraulic network analysis, offering a more comprehensive understanding of system dynamics and behavior over time. By considering temporal variations in demand, pressure, and operational changes, EPS enables engineers to optimize system performance, evaluate different strategies, and enhance overall efficiency. Moreover, EPS facilitates real-time monitoring and control, empowering system operators to respond effectively to changing conditions and ensure reliable water distribution. With its ability to capture the complexities of real-world scenarios, extended period simulation continues to play a vital role in improving the design, operation, and management of hydraulic networks.\n",
    "\n",
    "### Implementation in EPANET\n",
    "\n",
    "EPS is implemented in the EPANET program through its extended period simulation capabilities. \n",
    "In EPANET, extended period simulation is performed by specifying **time patterns for demands** and boundary conditions, as well as defining **time controls for operational changes** within the network. Here are the key steps involved in implementing EPS in EPANET:\n",
    "\n",
    "-  Network Definition: The first step is to define the geometric layout of the water distribution network in EPANET. This includes specifying pipes, nodes, pumps, valves, tanks, and other network components. The network properties such as pipe diameters, lengths, elevation data, and other hydraulic characteristics are also defined.\n",
    "\n",
    "- Demand Patterns: EPANET allows users to define time patterns for demands at different nodes in the network. These patterns represent the variations in water demand throughout the simulation period. By assigning appropriate patterns to different nodes, EPANET can simulate the changing demand profiles over time.\n",
    "\n",
    "- Boundary Conditions: EPANET allows users to define time-varying boundary conditions, such as time patterns for reservoir levels, tank levels, and nodal demands at external connections. This enables the simulation of varying system inflows and outflows, reflecting real-world conditions.\n",
    "\n",
    "- Time Controls: EPANET provides the ability to specify time controls for various operational changes within the network. For example, users can define the activation and deactivation of pumps, changes in valve settings, and alterations in tank filling or emptying schedules at different time points. These time controls capture the dynamic behavior of the system over the extended simulation period.\n",
    "\n",
    "- Simulation Settings: Once the network, demand patterns, boundary conditions, and time controls are defined, EPANET allows users to set the simulation parameters. This includes specifying the simulation duration, time step size, and other relevant settings.\n",
    "\n",
    "- Running the Extended Period Simulation: After the setup is complete, EPANET performs the extended period simulation by solving the hydraulic equations iteratively over the specified time period. The simulation calculates the hydraulic state of the network at each time step, accounting for time-varying demands, boundary conditions, and operational changes.\n",
    "\n",
    "- Analysis and Results: Finally, EPANET provides tools for analyzing and interpreting the simulation results. Users can examine various performance indicators, such as nodal pressures, flow rates, tank levels, and energy consumption, over the entire simulation period. These results help in assessing the system's behavior, identifying potential issues, and optimizing the network design and operation.\n",
    "\n",
    "## Examples\n",
    "\n",
    "The easiest way to start understanding EPS is with a simple example; here the example is focused on the subtle changes to a simulation model to allow for time-varying demands.  Control changes are left for later on in this course.  Two important components for time varying simulations is specification of **Times** behavior and **Patterns**.  \n",
    "\n",
    "## References\n",
    "\n",
    "1. [Bhave, P. R. (1988)\"Extended Period Simulation of Water Systems—Direct Solution.\" Journal of Environmental Engineering Vol. 114, No. 5, pp.1146-1159 (doi:10.1061/(ASCE)0733-9372(1988)114:5(1146))](https://ascelibrary.org/doi/epdf/10.1061/%28ASCE%290733-9372%281988%29114%3A5%281146%29)  "
   ]
  },
  {
   "cell_type": "code",
   "execution_count": null,
   "metadata": {},
   "outputs": [],
   "source": []
  }
 ],
 "metadata": {
  "kernelspec": {
   "display_name": "Python 3",
   "language": "python",
   "name": "python3"
  },
  "language_info": {
   "codemirror_mode": {
    "name": "ipython",
    "version": 3
   },
   "file_extension": ".py",
   "mimetype": "text/x-python",
   "name": "python",
   "nbconvert_exporter": "python",
   "pygments_lexer": "ipython3",
   "version": "3.8.10"
  }
 },
 "nbformat": 4,
 "nbformat_minor": 4
}