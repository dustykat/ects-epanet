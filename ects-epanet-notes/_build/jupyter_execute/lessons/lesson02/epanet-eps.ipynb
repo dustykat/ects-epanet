{
 "cells": [
  {
   "cell_type": "markdown",
   "metadata": {},
   "source": [
    "# 2.3 Extended period simulation (EPS)\n",
    "\n",
    "## Purpose\n",
    "EPS is a representation is used to mimic dynamic behavior in a system.  Not strictly transient, but changes are tracked to approximate filling/draining of tanks and discharge moving along a pump curve.  EPS is also the fundamental concept needed to allow for water quality simulations in EPANET.\n",
    "\n",
    "### Background\n",
    "\n",
    "Quoting from [Bhave, P. R. (1988)](http://freeswmm.ddns.net/ects-epanet/ects-epanet-notes/lessons/readings/(ASCE)0733-9372(1988)114-5(1146).pdf)\n",
    "\n",
    ">The common practice  of analyzing  flow  in water-distribution  systems  is to model the flow to be in a steady-state condition. This is \"static  analysis.\"  However,  neither  the nodal demands nor the reservoir water levels  remain  constant  over  a period  of time.  To  ensure  an  adequate  level  of  service  to  the  consumers  under  varying  conditions  of  demands  and  reservoir  water  levels, proper  operation  of the  distribution  system  is  necessary.  From  an  operational  point  of  view,  it  is necessary  to  adequately  maintain  the  flow  rates  and pressures  (residual  heads) at  all nodes  at various times; it  is also necessary  to  manage  the  storage  to  balance  the  supply  and  distribution.  These  objectives   can  be  achieved  by  carrying  out  the  analysis  of  the  network  over  a  period  of  24-48  hr  under  varying  nodal  demands  and  reservoir  water  levels.  Such  an  analysis  of  the  distribution  system  is  an  **extended  period  simulation**  or  simply  a  \"dynamic  analysis.\" \n",
    "\n",
    "## Examples\n",
    "\n",
    "## References\n",
    "\n",
    "1. [Bhave, P. R. (1988)\"Extended Period Simulation of Water Systems—Direct Solution.\" Journal of Environmental Engineering Vol. 114, No. 5, pp.1146-1159 (doi:10.1061/(ASCE)0733-9372(1988)114:5(1146))](https://ascelibrary.org/doi/epdf/10.1061/%28ASCE%290733-9372%281988%29114%3A5%281146%29)  "
   ]
  },
  {
   "cell_type": "code",
   "execution_count": null,
   "metadata": {},
   "outputs": [],
   "source": []
  }
 ],
 "metadata": {
  "kernelspec": {
   "display_name": "Python 3",
   "language": "python",
   "name": "python3"
  },
  "language_info": {
   "codemirror_mode": {
    "name": "ipython",
    "version": 3
   },
   "file_extension": ".py",
   "mimetype": "text/x-python",
   "name": "python",
   "nbconvert_exporter": "python",
   "pygments_lexer": "ipython3",
   "version": "3.8.10"
  }
 },
 "nbformat": 4,
 "nbformat_minor": 4
}