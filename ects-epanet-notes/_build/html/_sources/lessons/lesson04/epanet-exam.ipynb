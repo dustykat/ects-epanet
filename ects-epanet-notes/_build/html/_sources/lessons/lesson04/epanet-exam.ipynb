{
 "cells": [
  {
   "cell_type": "markdown",
   "metadata": {},
   "source": [
    "# 4.5 EPANET Exam\n",
    "\n",
    "## Purpose\n",
    "Demonstrate understanding of ...\n",
    "\n",
    "## Instructions\n",
    "\n",
    "## Problem 1\n",
    "\n",
    "## Problem 2\n",
    "\n",
    "## Problem 3\n",
    "\n",
    "## Problem 4\n",
    "\n"
   ]
  },
  {
   "cell_type": "code",
   "execution_count": null,
   "metadata": {},
   "outputs": [],
   "source": []
  }
 ],
 "metadata": {
  "kernelspec": {
   "display_name": "Python 3",
   "language": "python",
   "name": "python3"
  },
  "language_info": {
   "codemirror_mode": {
    "name": "ipython",
    "version": 3
   },
   "file_extension": ".py",
   "mimetype": "text/x-python",
   "name": "python",
   "nbconvert_exporter": "python",
   "pygments_lexer": "ipython3",
   "version": "3.8.10"
  }
 },
 "nbformat": 4,
 "nbformat_minor": 4
}
