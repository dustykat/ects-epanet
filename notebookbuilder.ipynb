{
 "cells": [
  {
   "cell_type": "code",
   "execution_count": 1,
   "metadata": {},
   "outputs": [
    {
     "name": "stdout",
     "output_type": "stream",
     "text": [
      "/home/sensei/ects-epanet\n"
     ]
    }
   ],
   "source": [
    "! pwd"
   ]
  },
  {
   "cell_type": "code",
   "execution_count": 2,
   "metadata": {},
   "outputs": [
    {
     "name": "stdout",
     "output_type": "stream",
     "text": [
      "\n",
      "\u001b[92m===============================================================================\u001b[0m\n",
      "\n",
      "Your book template can be found at\n",
      "\n",
      "    ects-epanet-notes/\n",
      "\n",
      "\u001b[92m===============================================================================\u001b[0m\n",
      "\n"
     ]
    }
   ],
   "source": [
    "#! jupyter-book create ects-epanet-notes"
   ]
  },
  {
   "cell_type": "code",
   "execution_count": 48,
   "metadata": {},
   "outputs": [
    {
     "name": "stdout",
     "output_type": "stream",
     "text": [
      "\n",
      "\u001b[92m===============================================================================\u001b[0m\n",
      "\n",
      "Your _build directory has been emptied except for .jupyter_cache\n",
      "\n",
      "\u001b[92m===============================================================================\u001b[0m\n",
      "\n"
     ]
    }
   ],
   "source": [
    "! jupyter-book clean ects-epanet-notes"
   ]
  },
  {
   "cell_type": "code",
   "execution_count": null,
   "metadata": {},
   "outputs": [
    {
     "name": "stdout",
     "output_type": "stream",
     "text": [
      "\u001b[32m\u001b[1mRunning Jupyter-Book v0.12.0\u001b[0m\n",
      "\u001b[34m\u001b[1mSource Folder: \u001b[0m/home/sensei/ects-epanet/ects-epanet-notes\n",
      "\u001b[34m\u001b[1mConfig Path: \u001b[0m/home/sensei/ects-epanet/ects-epanet-notes/_config.yml\n",
      "\u001b[34m\u001b[1mOutput Path: \u001b[0m/home/sensei/ects-epanet/ects-epanet-notes/_build/html\n",
      "\u001b[01mRunning Sphinx v3.5.2\u001b[39;49;00m\n",
      "\u001b[01mmaking output directory... \u001b[39;49;00mdone\n",
      "[etoc] Changing master_doc to 'intro'\n",
      "checking for /home/sensei/ects-epanet/ects-epanet-notes/references.bib in bibtex cache... not found\n",
      "parsing bibtex file /home/sensei/ects-epanet/ects-epanet-notes/references.bib... parsed 5 entries\n",
      "\u001b[01mmyst v0.15.2:\u001b[39;49;00m MdParserConfig(renderer='sphinx', commonmark_only=False, enable_extensions=['colon_fence', 'dollarmath', 'linkify', 'substitution', 'tasklist'], dmath_allow_labels=True, dmath_allow_space=True, dmath_allow_digits=True, dmath_double_inline=False, update_mathjax=True, mathjax_classes='tex2jax_process|mathjax_process|math|output_area', disable_syntax=[], url_schemes=['mailto', 'http', 'https'], heading_anchors=None, heading_slug_func=None, html_meta=[], footnote_transition=True, substitutions=[], sub_delimiters=['{', '}'], words_per_minute=200)\n",
      "\u001b[01mbuilding [mo]: \u001b[39;49;00mtargets for 0 po files that are out of date\n",
      "\u001b[01mbuilding [html]: \u001b[39;49;00mtargets for 22 source files that are out of date\n",
      "\u001b[01mupdating environment: \u001b[39;49;00m[new config] 22 added, 0 changed, 0 removed\n",
      "Executing: lessons/lesson01/hydraulic-networks in: /home/sensei/ects-epanet/ects-epanet-notes/lessons/lesson01  \n",
      "Executing: lessons/lesson01/introduction in: /home/sensei/ects-epanet/ects-epanet-notes/lessons/lesson01        \n",
      "Executing: lessons/lesson01/pythonhydraulics in: /home/sensei/ects-epanet/ects-epanet-notes/lessons/lesson01    \n",
      "Executing: lessons/lesson01/pythonhydraulicsmodule in: /home/sensei/ects-epanet/ects-epanet-notes/lessons/lesson01\n",
      "Executing: lessons/lesson01/pythonjupyter in: /home/sensei/ects-epanet/ects-epanet-notes/lessons/lesson01       \n",
      "Executing: lessons/lesson01/pythonpumpingmodule in: /home/sensei/ects-epanet/ects-epanet-notes/lessons/lesson01 \n",
      "Executing: lessons/lesson02/epanet-classic in: /home/sensei/ects-epanet/ects-epanet-notes/lessons/lesson02      \n",
      "Executing: lessons/lesson02/epanet-eps in: /home/sensei/ects-epanet/ects-epanet-notes/lessons/lesson02          \n",
      "Executing: lessons/lesson02/epanet-gui in: /home/sensei/ects-epanet/ects-epanet-notes/lessons/lesson02          \n",
      "Executing: lessons/lesson02/epanet-rules in: /home/sensei/ects-epanet/ects-epanet-notes/lessons/lesson02        \n",
      "Executing: lessons/lesson02/epanet-watq in: /home/sensei/ects-epanet/ects-epanet-notes/lessons/lesson02         \n",
      "Executing: lessons/lesson03/epanet-rulesAPI in: /home/sensei/ects-epanet/ects-epanet-notes/lessons/lesson03     \n"
     ]
    }
   ],
   "source": [
    "! jupyter-book build ects-epanet-notes"
   ]
  },
  {
   "cell_type": "code",
   "execution_count": null,
   "metadata": {},
   "outputs": [],
   "source": []
  }
 ],
 "metadata": {
  "kernelspec": {
   "display_name": "Python 3",
   "language": "python",
   "name": "python3"
  },
  "language_info": {
   "codemirror_mode": {
    "name": "ipython",
    "version": 3
   },
   "file_extension": ".py",
   "mimetype": "text/x-python",
   "name": "python",
   "nbconvert_exporter": "python",
   "pygments_lexer": "ipython3",
   "version": "3.8.10"
  }
 },
 "nbformat": 4,
 "nbformat_minor": 4
}
